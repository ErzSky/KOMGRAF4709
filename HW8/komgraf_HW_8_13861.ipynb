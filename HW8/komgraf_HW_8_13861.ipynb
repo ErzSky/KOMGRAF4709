{
  "nbformat": 4,
  "nbformat_minor": 0,
  "metadata": {
    "colab": {
      "provenance": []
    },
    "kernelspec": {
      "name": "python3",
      "display_name": "Python 3"
    },
    "language_info": {
      "name": "python"
    }
  },
  "cells": [
    {
      "cell_type": "code",
      "execution_count": 8,
      "metadata": {
        "colab": {
          "base_uri": "https://localhost:8080/"
        },
        "id": "SMs0nSjHZtaN",
        "outputId": "d6ad1648-ce77-4b66-f838-d24f8c323d99"
      },
      "outputs": [
        {
          "output_type": "stream",
          "name": "stdout",
          "text": [
            "Masukkan nilai x1: -1\n",
            "Masukkan nilai y1: -2\n",
            "Masukkan nilai x2: 5\n",
            "Masukkan nilai y2: 6\n",
            "Garis dipotong: (1.25, 1) dan (4, 4.666666666666666)\n"
          ]
        }
      ],
      "source": [
        "def compute_outcode(x, y, xmin, xmax, ymin, ymax):\n",
        "    code = 0b0000\n",
        "    if x < xmin:\n",
        "        code |= 0b1000  # Set bit kiri\n",
        "    elif x > xmax:\n",
        "        code |= 0b0100  # Set bit kanan\n",
        "    if y < ymin:\n",
        "        code |= 0b0010  # Set bit bawah\n",
        "    elif y > ymax:\n",
        "        code |= 0b0001  # Set bit atas\n",
        "    return code\n",
        "\n",
        "def cohen_sutherland_clip(x1, y1, x2, y2, xmin, xmax, ymin, ymax):\n",
        "    outcode1 = compute_outcode(x1, y1, xmin, xmax, ymin, ymax)\n",
        "    outcode2 = compute_outcode(x2, y2, xmin, xmax, ymin, ymax)\n",
        "    accept = False\n",
        "\n",
        "    while True:\n",
        "        if outcode1 == 0 and outcode2 == 0:\n",
        "            accept = True\n",
        "            break\n",
        "        elif outcode1 & outcode2 != 0:\n",
        "            break\n",
        "        else:\n",
        "            x = 0\n",
        "            y = 0\n",
        "            outcode_out = outcode1 if outcode1 != 0 else outcode2\n",
        "\n",
        "            if outcode_out & 0b1000:\n",
        "                x = xmin\n",
        "                y = y1 + (y2 - y1) * (xmin - x1) / (x2 - x1)\n",
        "            elif outcode_out & 0b0100:\n",
        "                x = xmax\n",
        "                y = y1 + (y2 - y1) * (xmax - x1) / (x2 - x1)\n",
        "            elif outcode_out & 0b0010:\n",
        "                y = ymin\n",
        "                x = x1 + (x2 - x1) * (ymin - y1) / (y2 - y1)\n",
        "            elif outcode_out & 0b0001:\n",
        "                y = ymax\n",
        "                x = x1 + (x2 - x1) * (ymax - y1) / (y2 - y1)\n",
        "\n",
        "            if outcode_out == outcode1:\n",
        "                x1, y1 = x, y\n",
        "                outcode1 = compute_outcode(x1, y1, xmin, xmax, ymin, ymax)\n",
        "            else:\n",
        "                x2, y2 = x, y\n",
        "                outcode2 = compute_outcode(x2, y2, xmin, xmax, ymin, ymax)\n",
        "\n",
        "    if accept:\n",
        "        print(\"Garis dipotong: ({}, {}) dan ({}, {})\".format(x1, y1, x2, y2))\n",
        "    else:\n",
        "        print(\"Garis di luar batas pandang.\")\n",
        "\n",
        "# Nilai batas pandang\n",
        "xmin = 1\n",
        "xmax = 4\n",
        "ymin = 1\n",
        "ymax = 5\n",
        "\n",
        "x1 = float(input(\"Masukkan nilai x1: \"))\n",
        "y1 = float(input(\"Masukkan nilai y1: \"))\n",
        "x2 = float(input(\"Masukkan nilai x2: \"))\n",
        "y2 = float(input(\"Masukkan nilai y2: \"))\n",
        "\n",
        "# Panggil fungsi pemotongan\n",
        "cohen_sutherland_clip(x1, y1, x2, y2, xmin, xmax, ymin, ymax)\n"
      ]
    },
    {
      "cell_type": "code",
      "source": [
        "def compute_outcode(x, y, xmin, xmax, ymin, ymax):\n",
        "    code = 0b0000\n",
        "    if x < xmin:\n",
        "        code |= 0b1000  # Set bit kiri\n",
        "    elif x > xmax:\n",
        "        code |= 0b0100  # Set bit kanan\n",
        "    if y < ymin:\n",
        "        code |= 0b0010  # Set bit bawah\n",
        "    elif y > ymax:\n",
        "        code |= 0b0001  # Set bit atas\n",
        "    return code\n",
        "\n",
        "def cohen_sutherland_clip(x1, y1, x2, y2, xmin, xmax, ymin, ymax):\n",
        "    outcode1 = compute_outcode(x1, y1, xmin, xmax, ymin, ymax)\n",
        "    outcode2 = compute_outcode(x2, y2, xmin, xmax, ymin, ymax)\n",
        "    accept = False\n",
        "\n",
        "    while True:\n",
        "        if outcode1 == 0 and outcode2 == 0:\n",
        "            accept = True\n",
        "            break\n",
        "        elif outcode1 & outcode2 != 0:\n",
        "            break\n",
        "        else:\n",
        "            x = 0\n",
        "            y = 0\n",
        "            outcode_out = outcode1 if outcode1 != 0 else outcode2\n",
        "\n",
        "            if outcode_out & 0b1000:\n",
        "                x = xmin\n",
        "                y = y1 + (y2 - y1) * (xmin - x1) / (x2 - x1)\n",
        "            elif outcode_out & 0b0100:\n",
        "                x = xmax\n",
        "                y = y1 + (y2 - y1) * (xmax - x1) / (x2 - x1)\n",
        "            elif outcode_out & 0b0010:\n",
        "                y = ymin\n",
        "                x = x1 + (x2 - x1) * (ymin - y1) / (y2 - y1)\n",
        "            elif outcode_out & 0b0001:\n",
        "                y = ymax\n",
        "                x = x1 + (x2 - x1) * (ymax - y1) / (y2 - y1)\n",
        "\n",
        "            if outcode_out == outcode1:\n",
        "                x1, y1 = x, y\n",
        "                outcode1 = compute_outcode(x1, y1, xmin, xmax, ymin, ymax)\n",
        "            else:\n",
        "                x2, y2 = x, y\n",
        "                outcode2 = compute_outcode(x2, y2, xmin, xmax, ymin, ymax)\n",
        "\n",
        "    if accept:\n",
        "        print(\"Garis dipotong: ({}, {}) dan ({}, {})\".format(x1, y1, x2, y2))\n",
        "    else:\n",
        "        print(\"Garis di luar batas pandang.\")\n",
        "\n",
        "xmin = float(input(\"Masukkan nilai Xmin: \"))\n",
        "xmax = float(input(\"Masukkan nilai Xmax: \"))\n",
        "ymin = float(input(\"Masukkan nilai Ymin: \"))\n",
        "ymax = float(input(\"Masukkan nilai Ymax: \"))\n",
        "\n",
        "print(\"==== kanvas telah terbentuk ====\")\n",
        "\n",
        "x1 = float(input(\"Masukkan nilai x1: \"))\n",
        "y1 = float(input(\"Masukkan nilai y1: \"))\n",
        "x2 = float(input(\"Masukkan nilai x2: \"))\n",
        "y2 = float(input(\"Masukkan nilai y2: \"))\n",
        "\n",
        "# Panggil fungsi pemotongan\n",
        "cohen_sutherland_clip(x1, y1, x2, y2, xmin, xmax, ymin, ymax)\n"
      ],
      "metadata": {
        "colab": {
          "base_uri": "https://localhost:8080/"
        },
        "id": "3l3mWL7ZZun2",
        "outputId": "2ddf265d-c087-46e6-eeee-d046ad3ee0dd"
      },
      "execution_count": 12,
      "outputs": [
        {
          "output_type": "stream",
          "name": "stdout",
          "text": [
            "Masukkan nilai Xmin: 1\n",
            "Masukkan nilai Xmax: 4\n",
            "Masukkan nilai Ymin: 1\n",
            "Masukkan nilai Ymax: 5\n",
            "==== kanvas telah terbentuk ====\n",
            "Masukkan nilai x1: -1\n",
            "Masukkan nilai y1: 5\n",
            "Masukkan nilai x2: 6\n",
            "Masukkan nilai y2: 7\n",
            "Garis di luar batas pandang.\n"
          ]
        }
      ]
    },
    {
      "cell_type": "code",
      "source": [],
      "metadata": {
        "id": "qY3-uIMleCgO"
      },
      "execution_count": null,
      "outputs": []
    }
  ]
}