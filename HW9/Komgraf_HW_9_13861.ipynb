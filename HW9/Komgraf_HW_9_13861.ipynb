{
  "nbformat": 4,
  "nbformat_minor": 0,
  "metadata": {
    "colab": {
      "provenance": []
    },
    "kernelspec": {
      "name": "python3",
      "display_name": "Python 3"
    },
    "language_info": {
      "name": "python"
    }
  },
  "cells": [
    {
      "cell_type": "markdown",
      "source": [
        "# **Matriks Transformasi 3D**"
      ],
      "metadata": {
        "id": "V3kXHkVp1D6Z"
      }
    },
    {
      "cell_type": "code",
      "source": [
        "import numpy as np\n",
        "import math"
      ],
      "metadata": {
        "id": "PfTjkrmbodGE"
      },
      "execution_count": 10,
      "outputs": []
    },
    {
      "cell_type": "markdown",
      "source": [
        "**Translasi**"
      ],
      "metadata": {
        "id": "YazL9Gl80_Zp"
      }
    },
    {
      "cell_type": "code",
      "execution_count": null,
      "metadata": {
        "colab": {
          "base_uri": "https://localhost:8080/"
        },
        "id": "wi2da2_Nqsgf",
        "outputId": "873d831d-735d-4388-8f09-a22aee7b1125"
      },
      "outputs": [
        {
          "output_type": "stream",
          "name": "stdout",
          "text": [
            "Matriks awal:\n",
            "[[1 0 0 2]\n",
            " [0 1 0 5]\n",
            " [0 0 1 4]\n",
            " [0 0 0 1]]\n",
            "Masukkan nilai tx untuk translasi: 1\n",
            "Masukkan nilai ty untuk translasi: 1\n",
            "Masukkan nilai tz untuk translasi: 1\n",
            "Matriks setelah translasi:\n",
            "[[1 0 0 3]\n",
            " [0 1 0 6]\n",
            " [0 0 1 5]\n",
            " [0 0 0 1]]\n"
          ]
        }
      ],
      "source": [
        "def translasi(matriks, tx, ty, tz):\n",
        "    translasiMatrix = np.array([[1, 0, 0, tx],\n",
        "                                [0, 1, 0, ty],\n",
        "                                [0, 0, 1, ty],\n",
        "                                [0, 0, 0, 1]])\n",
        "    hasil = np.dot(translasiMatrix, matriks)\n",
        "    return hasil\n",
        "\n",
        "def main():\n",
        "    matriksAwal = np.array([[1, 0, 0, 2],\n",
        "                            [0, 1, 0, 5],\n",
        "                            [0, 0, 1, 4],\n",
        "                            [0, 0, 0, 1]])\n",
        "\n",
        "    print(\"Matriks awal:\")\n",
        "    print(matriksAwal)\n",
        "\n",
        "    tx = int(input(\"Masukkan nilai tx untuk translasi: \"))\n",
        "    ty = int(input(\"Masukkan nilai ty untuk translasi: \"))\n",
        "    tz = int(input(\"Masukkan nilai tz untuk translasi: \"))\n",
        "\n",
        "    matriksHasil = translasi(matriksAwal, tx, ty, tz)\n",
        "\n",
        "    print(\"Matriks setelah translasi:\")\n",
        "    print(matriksHasil)\n",
        "\n",
        "if __name__ == \"__main__\":\n",
        "    main()"
      ]
    },
    {
      "cell_type": "markdown",
      "source": [
        "**Rotasi**"
      ],
      "metadata": {
        "id": "3IYrQBUJza2T"
      }
    },
    {
      "cell_type": "code",
      "source": [
        "def skalar(matriks, sx, sy, sz):\n",
        "    skalarMatrix = np.array([[sx, 0, 0, 0],\n",
        "                             [0, sy, 0, 0],\n",
        "                             [0, 0, sz, 0],\n",
        "                             [0, 0, 0, 1]])\n",
        "\n",
        "    hasil = np.dot(skalarMatrix, matriks)\n",
        "\n",
        "    return hasil\n",
        "\n",
        "def main():\n",
        "    matriksAwal = np.array([[1, 0, 0, 2],\n",
        "                            [0, 1, 0, 5],\n",
        "                            [0, 0, 1, 4],\n",
        "                            [0, 0, 0, 1]])\n",
        "\n",
        "    print(\"Matriks awal:\")\n",
        "    print(matriksAwal)\n",
        "\n",
        "    s = int(input(\"Masukkan nilai skalar: \"))\n",
        "\n",
        "    hasilSkalar = skalar(matriksAwal, s, s, s)\n",
        "\n",
        "    print(\"Matriks setelah operasi skalar:\")\n",
        "    for row in hasilSkalar:\n",
        "        print([round(val, 2) for val in row])\n",
        "\n",
        "if __name__ == \"__main__\":\n",
        "    main()"
      ],
      "metadata": {
        "id": "PbhxiUOasb8T",
        "colab": {
          "base_uri": "https://localhost:8080/"
        },
        "outputId": "29c3d2ff-4674-4e4b-a1cf-1e5e6b8c342e"
      },
      "execution_count": 9,
      "outputs": [
        {
          "output_type": "stream",
          "name": "stdout",
          "text": [
            "Matriks awal:\n",
            "[[1 0 0 2]\n",
            " [0 1 0 5]\n",
            " [0 0 1 4]\n",
            " [0 0 0 1]]\n",
            "Masukkan nilai skalar: 2\n",
            "Matriks setelah operasi skalar:\n",
            "[2, 0, 0, 4]\n",
            "[0, 2, 0, 10]\n",
            "[0, 0, 2, 8]\n",
            "[0, 0, 0, 1]\n"
          ]
        }
      ]
    },
    {
      "cell_type": "markdown",
      "source": [
        "**Rotasi**"
      ],
      "metadata": {
        "id": "MXbdW_-90Mgq"
      }
    },
    {
      "cell_type": "markdown",
      "source": [
        "Terhadap sumbu Z (Rz)"
      ],
      "metadata": {
        "id": "1Pkj7aqf0TEz"
      }
    },
    {
      "cell_type": "code",
      "source": [
        "def rotasiSumbuZ(matriks, sudut1, sudut2):\n",
        "    totalRad = math.radians(sudut1 + sudut2)\n",
        "\n",
        "    rotasiMatrix = np.array([[math.cos(totalRad), -math.sin(totalRad), 0, 0],\n",
        "                             [math.sin(totalRad), math.cos(totalRad), 0, 0],\n",
        "                             [0, 0, 1, 0],\n",
        "                             [0, 0, 0, 1]])\n",
        "\n",
        "    hasil = np.dot(rotasiMatrix, matriks)\n",
        "\n",
        "    return hasil\n",
        "\n",
        "def main():\n",
        "    matriksAwal = np.array([[1, 0, 0, 2],\n",
        "                            [0, 1, 0, 5],\n",
        "                            [0, 0, 1, 4],\n",
        "                            [0, 0, 0, 1]])\n",
        "\n",
        "    print(\"Matriks awal:\")\n",
        "    print(matriksAwal)\n",
        "\n",
        "    sudutTotal = float(input(\"Masukkan sudut rotasi total (dalam derajat): \"))\n",
        "\n",
        "    hasilRotasi = rotasiSumbuZ(matriksAwal, sudutTotal, 0)\n",
        "\n",
        "    print(\"Matriks setelah rotasi:\")\n",
        "    for row in hasilRotasi:\n",
        "        print([round(val, 2) for val in row])\n",
        "\n",
        "if __name__ == \"__main__\":\n",
        "    main()\n"
      ],
      "metadata": {
        "colab": {
          "base_uri": "https://localhost:8080/"
        },
        "id": "1Or1eFE0p4dx",
        "outputId": "0e6ac2bb-1950-40df-c97b-498cd3a5917a"
      },
      "execution_count": 13,
      "outputs": [
        {
          "output_type": "stream",
          "name": "stdout",
          "text": [
            "Matriks awal:\n",
            "[[1 0 0 2]\n",
            " [0 1 0 5]\n",
            " [0 0 1 4]\n",
            " [0 0 0 1]]\n",
            "Masukkan sudut rotasi total (dalam derajat): 45\n",
            "Matriks setelah rotasi:\n",
            "[0.71, -0.71, 0.0, -2.12]\n",
            "[0.71, 0.71, 0.0, 4.95]\n",
            "[0.0, 0.0, 1.0, 4.0]\n",
            "[0.0, 0.0, 0.0, 1.0]\n"
          ]
        }
      ]
    },
    {
      "cell_type": "markdown",
      "source": [
        "Terhadap sumbu Y (Ry)"
      ],
      "metadata": {
        "id": "PO2v0Drj0bM5"
      }
    },
    {
      "cell_type": "code",
      "source": [
        "def rotasiSumbuY(matriks, sudut1, sudut2):\n",
        "    totalRad = math.radians(sudut1 + sudut2)\n",
        "\n",
        "    rotasiMatrix = np.array([[math.cos(totalRad), 0, math.sin(totalRad), 0],\n",
        "                             [0, 1, 0, 0],\n",
        "                             [-math.sin(totalRad), 0, math.cos(totalRad), 0],\n",
        "                             [0, 0, 0, 1]])\n",
        "\n",
        "    hasil = np.dot(rotasiMatrix, matriks)\n",
        "\n",
        "    return hasil\n",
        "\n",
        "def main():\n",
        "    matriksAwal = np.array([[1, 0, 0, 2],\n",
        "                            [0, 1, 0, 5],\n",
        "                            [0, 0, 1, 4],\n",
        "                            [0, 0, 0, 1]])\n",
        "\n",
        "    print(\"Matriks awal:\")\n",
        "    print(matriksAwal)\n",
        "\n",
        "    sudutTotal = float(input(\"Masukkan sudut rotasi total (dalam derajat): \"))\n",
        "\n",
        "    hasilRotasi = rotasiSumbuY(matriksAwal, sudutTotal, 0)\n",
        "\n",
        "    print(\"Matriks setelah rotasi:\")\n",
        "    for row in hasilRotasi:\n",
        "        print([round(val, 2) for val in row])\n",
        "\n",
        "if __name__ == \"__main__\":\n",
        "    main()\n"
      ],
      "metadata": {
        "colab": {
          "base_uri": "https://localhost:8080/"
        },
        "id": "igoCN_WnwQyM",
        "outputId": "bf5e269b-ddc1-4fd2-f4cc-e3279acadb4a"
      },
      "execution_count": 14,
      "outputs": [
        {
          "output_type": "stream",
          "name": "stdout",
          "text": [
            "Matriks awal:\n",
            "[[1 0 0 2]\n",
            " [0 1 0 5]\n",
            " [0 0 1 4]\n",
            " [0 0 0 1]]\n",
            "Masukkan sudut rotasi total (dalam derajat): 45\n",
            "Matriks setelah rotasi:\n",
            "[0.71, 0.0, 0.71, 4.24]\n",
            "[0.0, 1.0, 0.0, 5.0]\n",
            "[-0.71, 0.0, 0.71, 1.41]\n",
            "[0.0, 0.0, 0.0, 1.0]\n"
          ]
        }
      ]
    },
    {
      "cell_type": "markdown",
      "source": [
        "Terhadap sumbu X (Rx)"
      ],
      "metadata": {
        "id": "HH5zYWZt0eKm"
      }
    },
    {
      "cell_type": "code",
      "source": [
        "def rotasiSumbuX(matriks, sudut1, sudut2):\n",
        "    totalRad = math.radians(sudut1 + sudut2)\n",
        "\n",
        "    rotasiMatrix = np.array([[1, 0, 0, 0],\n",
        "                             [0, math.cos(totalRad), -math.sin(totalRad), 0],\n",
        "                             [0, math.sin(totalRad), math.cos(totalRad), 0],\n",
        "                             [0, 0, 0, 1]])\n",
        "\n",
        "    hasil = np.dot(rotasiMatrix, matriks)\n",
        "\n",
        "    return hasil\n",
        "\n",
        "def main():\n",
        "    matriksAwal = np.array([[1, 0, 0, 2],\n",
        "                            [0, 1, 0, 5],\n",
        "                            [0, 0, 1, 4],\n",
        "                            [0, 0, 0, 1]])\n",
        "\n",
        "    print(\"Matriks awal:\")\n",
        "    print(matriksAwal)\n",
        "\n",
        "    sudutTotal = float(input(\"Masukkan sudut rotasi total (dalam derajat): \"))\n",
        "\n",
        "    hasilRotasi = rotasiSumbuX(matriksAwal, sudutTotal, 0)\n",
        "\n",
        "    print(\"Matriks setelah rotasi:\")\n",
        "    for row in hasilRotasi:\n",
        "        print([round(val, 2) for val in row])\n",
        "\n",
        "if __name__ == \"__main__\":\n",
        "    main()\n"
      ],
      "metadata": {
        "colab": {
          "base_uri": "https://localhost:8080/"
        },
        "id": "petTFMmiyVs8",
        "outputId": "d59fef8a-fe9b-4c6d-d9b0-134987e89879"
      },
      "execution_count": 16,
      "outputs": [
        {
          "output_type": "stream",
          "name": "stdout",
          "text": [
            "Matriks awal:\n",
            "[[1 0 0 2]\n",
            " [0 1 0 5]\n",
            " [0 0 1 4]\n",
            " [0 0 0 1]]\n",
            "Masukkan sudut rotasi total (dalam derajat): 45\n",
            "Matriks setelah rotasi:\n",
            "[1.0, 0.0, 0.0, 2.0]\n",
            "[0.0, 0.71, -0.71, 0.71]\n",
            "[0.0, 0.71, 0.71, 6.36]\n",
            "[0.0, 0.0, 0.0, 1.0]\n"
          ]
        }
      ]
    }
  ]
}